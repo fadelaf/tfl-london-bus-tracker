from kafka import KafkaProducer
import json


bootstrap_servers = ['localhost:29092']
topicName = "testing"
producer = KafkaProducer(bootstrap_servers=bootstrap_servers,
                        value_serializer=lambda v: str(v).encode('utf-8')  # Auto encode
                        )
for i in range(1,10):
    producer.send(topicName, "testing")

producer.flush()
print("Messages sent successfully!")










